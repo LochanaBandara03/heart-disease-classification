{
  "nbformat": 4,
  "nbformat_minor": 0,
  "metadata": {
    "colab": {
      "provenance": [],
      "authorship_tag": "ABX9TyMBx8UxOo0RX4/MH6W0GKkM",
      "include_colab_link": true
    },
    "kernelspec": {
      "name": "python3",
      "display_name": "Python 3"
    },
    "language_info": {
      "name": "python"
    }
  },
  "cells": [
    {
      "cell_type": "markdown",
      "metadata": {
        "id": "view-in-github",
        "colab_type": "text"
      },
      "source": [
        "<a href=\"https://colab.research.google.com/github/LochanaBandara03/heart-disease-classification/blob/main/heart_disease_predict.ipynb\" target=\"_parent\"><img src=\"https://colab.research.google.com/assets/colab-badge.svg\" alt=\"Open In Colab\"/></a>"
      ]
    },
    {
      "cell_type": "markdown",
      "source": [
        "###Preparing Tools\n",
        "\n",
        "Exploratory Data Analysis (EDA) in machine learning is a critical step to understand, summarize, and visualize the dataset before building a model."
      ],
      "metadata": {
        "id": "YOKSWmUgk-p8"
      }
    },
    {
      "cell_type": "code",
      "source": [
        "#Regular EDA and plotting libraries\n",
        "import numpy as np\n",
        "import pandas as pd\n",
        "import matplotlib.pyplot as plt"
      ],
      "metadata": {
        "id": "rnCUQthfwUaD"
      },
      "execution_count": 1,
      "outputs": []
    },
    {
      "cell_type": "markdown",
      "source": [
        "Seaborn is a Python library for data visualization built on top of Matplotlib. It provides a high-level interface for creating visually appealing and informative statistical graphics."
      ],
      "metadata": {
        "id": "6CEHs9hDxNQ1"
      }
    },
    {
      "cell_type": "code",
      "source": [
        "import seaborn as sns"
      ],
      "metadata": {
        "id": "SsCPoRiGxPkM"
      },
      "execution_count": 2,
      "outputs": []
    },
    {
      "cell_type": "code",
      "source": [
        "##Models\n",
        "import sklearn\n",
        "from sklearn.linear_model import LogisticRegression\n",
        "from sklearn.neighbors import KNeighborsClassifier\n",
        "from sklearn.ensemble import RandomForestClassifier"
      ],
      "metadata": {
        "id": "_ODuv9kaxSHA"
      },
      "execution_count": null,
      "outputs": []
    }
  ]
}