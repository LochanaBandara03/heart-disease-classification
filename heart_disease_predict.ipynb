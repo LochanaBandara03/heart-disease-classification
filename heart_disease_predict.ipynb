{
  "nbformat": 4,
  "nbformat_minor": 0,
  "metadata": {
    "colab": {
      "provenance": [],
      "authorship_tag": "ABX9TyM1uNE3BV7EY+rl74ViVvwH",
      "include_colab_link": true
    },
    "kernelspec": {
      "name": "python3",
      "display_name": "Python 3"
    },
    "language_info": {
      "name": "python"
    }
  },
  "cells": [
    {
      "cell_type": "markdown",
      "metadata": {
        "id": "view-in-github",
        "colab_type": "text"
      },
      "source": [
        "<a href=\"https://colab.research.google.com/github/LochanaBandara03/heart-disease-classification/blob/main/heart_disease_predict.ipynb\" target=\"_parent\"><img src=\"https://colab.research.google.com/assets/colab-badge.svg\" alt=\"Open In Colab\"/></a>"
      ]
    },
    {
      "cell_type": "markdown",
      "source": [
        "###Preparing Tools\n",
        "\n",
        "Exploratory Data Analysis (EDA) in machine learning is a critical step to understand, summarize, and visualize the dataset before building a model."
      ],
      "metadata": {
        "id": "YOKSWmUgk-p8"
      }
    },
    {
      "cell_type": "code",
      "source": [
        "#Regular EDA and plotting libraries\n",
        "import numpy as np\n",
        "import pandas as pd\n",
        "import matplotlib\n",
        "import matplotlib.pyplot as plt"
      ],
      "metadata": {
        "id": "rnCUQthfwUaD"
      },
      "execution_count": 6,
      "outputs": []
    },
    {
      "cell_type": "markdown",
      "source": [
        "Seaborn is a Python library for data visualization built on top of Matplotlib. It provides a high-level interface for creating visually appealing and informative statistical graphics."
      ],
      "metadata": {
        "id": "6CEHs9hDxNQ1"
      }
    },
    {
      "cell_type": "code",
      "source": [
        "import seaborn as sns"
      ],
      "metadata": {
        "id": "SsCPoRiGxPkM"
      },
      "execution_count": 7,
      "outputs": []
    },
    {
      "cell_type": "code",
      "source": [
        "##Models\n",
        "import sklearn\n",
        "from sklearn.linear_model import LogisticRegression\n",
        "from sklearn.neighbors import KNeighborsClassifier\n",
        "from sklearn.ensemble import RandomForestClassifier"
      ],
      "metadata": {
        "id": "_ODuv9kaxSHA"
      },
      "execution_count": 8,
      "outputs": []
    },
    {
      "cell_type": "code",
      "source": [
        "##Model evaluators\n",
        "from sklearn.model_selection import train_test_split, cross_val_score\n",
        "from sklearn.model_selection import RandomizedSearchCV, GridSearchCV\n",
        "from sklearn.metrics import confusion_matrix, classification_report\n",
        "from sklearn.metrics import precision_score, recall_score, f1_score\n",
        "from sklearn.metrics import RocCurveDisplay\n",
        "\n",
        "#Print last updated\n",
        "import datetime\n",
        "print(f\"Notebook last updated: {datetime.datetime.now()}\\n\")\n",
        "\n",
        "#Print versions of libraries\n",
        "print(f\"Numpy version: {np.__version__}\")\n",
        "print(f\"Pandas version: {pd.__version__}\")\n",
        "print(f\"Matplotlib version: {matplotlib.__version__}\")\n",
        "print(f\"Sklearn version: {sklearn.__version__}\")"
      ],
      "metadata": {
        "colab": {
          "base_uri": "https://localhost:8080/"
        },
        "id": "3tsJ1PbayTEH",
        "outputId": "640561e3-c008-4e58-8117-329531ae5588"
      },
      "execution_count": 10,
      "outputs": [
        {
          "output_type": "stream",
          "name": "stdout",
          "text": [
            "Notebook last updated: 2024-11-23 11:49:18.940428\n",
            "\n",
            "Numpy version: 1.26.4\n",
            "Pandas version: 2.2.2\n",
            "Matplotlib version: 3.8.0\n",
            "Sklearn version: 1.5.2\n"
          ]
        }
      ]
    },
    {
      "cell_type": "code",
      "source": [],
      "metadata": {
        "id": "F8GffvhR2ToX"
      },
      "execution_count": null,
      "outputs": []
    }
  ]
}